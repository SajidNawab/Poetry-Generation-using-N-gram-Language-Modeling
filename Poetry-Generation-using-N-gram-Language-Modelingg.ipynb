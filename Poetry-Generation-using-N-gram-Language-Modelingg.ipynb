{
 "cells": [
  {
   "cell_type": "markdown",
   "metadata": {},
   "source": [
    "# POETRY Generation using N-grams"
   ]
  },
  {
   "cell_type": "code",
   "execution_count": 1,
   "metadata": {},
   "outputs": [
    {
     "ename": "SyntaxError",
     "evalue": "invalid syntax (<ipython-input-1-55c1f36c1a10>, line 3)",
     "output_type": "error",
     "traceback": [
      "\u001b[1;36m  File \u001b[1;32m\"<ipython-input-1-55c1f36c1a10>\"\u001b[1;36m, line \u001b[1;32m3\u001b[0m\n\u001b[1;33m    دل سے نکال یاس کہ زندہ ہوں میں ابھی،\u001b[0m\n\u001b[1;37m        ^\u001b[0m\n\u001b[1;31mSyntaxError\u001b[0m\u001b[1;31m:\u001b[0m invalid syntax\n"
     ]
    }
   ],
   "source": [
    "##1 Introduction: In this assignment, you will use n-gram language modeling to generate some poetry using the ngrams. For the purpose of this assignment a poem will consist of three stanzas each containing four verses where each verse consists of 7—10 words. For example, following is a manually generated stanza.\n",
    "\n",
    "دل سے نکال یاس کہ زندہ ہوں میں ابھی،\n",
    "\n",
    "ہوتا ہے کیوں اداس کہ زندہ ہوں میں ابھی،\n",
    "\n",
    "مایوسیوں کی قید سے خود کو نکال کر،\n",
    "\n",
    "آ جاؤ میرے پاس کہ زندہ ہوں میں ابھی،\n",
    "\n",
    "آ کر کبھی تو دید سے سیراب کر مجھے،\n",
    "\n",
    "مرتی نہیں ہے پیاس کہ زندہ ہوں میں ابھی،\n",
    "\n",
    "مہر و وفا خلوص و محبت گداز دل،\n",
    "\n",
    "سب کچھ ہے میرے پاس کہ زندہ ہوں میں ابھی،\n",
    "\n",
    "لوٹیں گے تیرے آتے ہی پھر دن بہار کے،\n",
    "\n",
    "رہتی ہے دل میں آس کہ زندہ ہوں میں،\n",
    "\n",
    "نایا ب شاخ چشم میں کھلتے ہیں اب بھی خواب، سچ ہے ترا\n",
    "\n",
    "قیاس کہ زندہ ہوں میں ابھی\n",
    "\n",
    "##The task is to print three such stanzas with an empty line in between. The generation model can be trained on the provided Poetry Corpus containing poems from Faiz, Ghalib and Iqbal.You can scrape other urdu poetry too from internet. You will train unigram and bigram models using this corpus. These models will be used to generate poetry."
   ]
  },
  {
   "cell_type": "markdown",
   "metadata": {},
   "source": [
    "# import Usefull libraries"
   ]
  },
  {
   "cell_type": "code",
   "execution_count": null,
   "metadata": {},
   "outputs": [],
   "source": [
    "import random\n",
    "from nltk import ngrams\n",
    "from collections import defaultdict"
   ]
  },
  {
   "cell_type": "markdown",
   "metadata": {},
   "source": [
    "# Initialize a verses"
   ]
  },
  {
   "cell_type": "code",
   "execution_count": 2,
   "metadata": {},
   "outputs": [],
   "source": [
    "verses = [\n",
    "    \"دل سے نکال یاس کہ زندہ ہوں میں ابھی\",\n",
    "    \"ہوتا ہے کیوں اداس کہ زندہ ہوں میں ابھی\",\n",
    "    \"مایوسیوں کی قید سے خود کو نکال کر\",\n",
    "    \"آ جاؤ میرے پاس کہ زندہ ہوں میں ابھی\",\n",
    "    \"آ کر کبھی تو دید سے سیراب کر مجھے\",\n",
    "    \"مرتی نہیں ہے پیاس کہ زندہ ہوں میں ابھی\",\n",
    "    \"مہر و وفا خلوص و محبت گداز دل\",\n",
    "    \"سب کچھ ہے میرے پاس کہ زندہ ہوں میں ابھی\",\n",
    "    \"لوٹیں گے تیرے آتے ہی پھر دن بہار کے\",\n",
    "    \"رہتی ہے دل میں آس کہ زندہ ہوں میں\",\n",
    "    \"نایا ب شاخ چشم میں کھلتے ہیں اب بھی خواب\",\n",
    "    \" سچ ہے تراقیاس کہ زندہ ہوں میں ابھی\"\n",
    "]"
   ]
  },
  {
   "cell_type": "markdown",
   "metadata": {},
   "source": [
    "# Create  Uni-grame Dictionary"
   ]
  },
  {
   "cell_type": "code",
   "execution_count": null,
   "metadata": {},
   "outputs": [],
   "source": [
    "unigram_model = defaultdict(int)\n",
    "print(unigram_model)\n",
    "for verse in verses:\n",
    "    tokens = verse.split()\n",
    "    for token in tokens:\n",
    "        unigram_model[token] += 1\n",
    "print(unigram_model)"
   ]
  },
  {
   "cell_type": "markdown",
   "metadata": {},
   "source": [
    "#  Generate poetry using uni-grame dictionary"
   ]
  },
  {
   "cell_type": "code",
   "execution_count": null,
   "metadata": {},
   "outputs": [],
   "source": [
    "for _ in range(3):\n",
    "    stanza = []\n",
    "    for _ in range(4):\n",
    "        verse = []\n",
    "        while len(verse) < random.randint(7, 10):\n",
    "            word = random.choice(list(unigram_model.keys()))\n",
    "            verse.append(word)\n",
    "        stanza.append(\" \".join(verse))\n",
    "    print(\"\\n\".join(stanza))\n",
    "    print()"
   ]
  },
  {
   "cell_type": "markdown",
   "metadata": {},
   "source": [
    "# Create bi-grame Dictionary"
   ]
  },
  {
   "cell_type": "code",
   "execution_count": null,
   "metadata": {},
   "outputs": [],
   "source": [
    "bigram_model = defaultdict(int)\n",
    "for verse in verses:\n",
    "    tokens = verse.split()\n",
    "    bigrams = list(ngrams(tokens, 2, pad_left=True, pad_right=True))\n",
    "    for bigram in bigrams:\n",
    "        bigram_model[bigram] += 1\n",
    "print(bigram_model)"
   ]
  },
  {
   "cell_type": "markdown",
   "metadata": {},
   "source": [
    "# Generate poetry using Bi-grame Dictionary"
   ]
  },
  {
   "cell_type": "code",
   "execution_count": null,
   "metadata": {},
   "outputs": [],
   "source": [
    "for _ in range(3):\n",
    "    stanza = []\n",
    "    for _ in range(4):\n",
    "        verse = []\n",
    "        current_word = None\n",
    "        while len(verse) < random.randint(7, 10):\n",
    "            if current_word is None:\n",
    "                current_word = random.choice(list(unigram_model.keys()))\n",
    "            else:\n",
    "                next_word = None\n",
    "                total_bigrams = sum(bigram_model[(current_word, word)] for word in unigram_model.keys() if (current_word, word) in bigram_model)\n",
    "                if total_bigrams == 0:\n",
    "                    break  \n",
    "                rand_num = random.randint(1, total_bigrams)\n",
    "                for word in unigram_model.keys():\n",
    "                    if (current_word, word) in bigram_model:\n",
    "                        rand_num -= bigram_model[(current_word, word)]\n",
    "                        if rand_num <= 0:\n",
    "                            next_word = word\n",
    "                            break\n",
    "                if next_word is None:\n",
    "                    break\n",
    "                verse.append(next_word)\n",
    "                current_word = next_word\n",
    "        stanza.append(\" \".join(verse))\n",
    "    print(\"\\n\".join(stanza))\n",
    "    print()"
   ]
  },
  {
   "cell_type": "code",
   "execution_count": null,
   "metadata": {},
   "outputs": [],
   "source": []
  },
  {
   "cell_type": "code",
   "execution_count": null,
   "metadata": {},
   "outputs": [],
   "source": []
  },
  {
   "cell_type": "code",
   "execution_count": null,
   "metadata": {},
   "outputs": [],
   "source": []
  }
 ],
 "metadata": {
  "kernelspec": {
   "display_name": "Python 3",
   "language": "python",
   "name": "python3"
  },
  "language_info": {
   "codemirror_mode": {
    "name": "ipython",
    "version": 3
   },
   "file_extension": ".py",
   "mimetype": "text/x-python",
   "name": "python",
   "nbconvert_exporter": "python",
   "pygments_lexer": "ipython3",
   "version": "3.7.4"
  }
 },
 "nbformat": 4,
 "nbformat_minor": 2
}
